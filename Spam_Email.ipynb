{
  "nbformat": 4,
  "nbformat_minor": 0,
  "metadata": {
    "colab": {
      "provenance": []
    },
    "kernelspec": {
      "name": "python3",
      "display_name": "Python 3"
    },
    "language_info": {
      "name": "python"
    }
  },
  "cells": [
    {
      "cell_type": "code",
      "execution_count": null,
      "metadata": {
        "id": "bmDpLOpUuclr",
        "colab": {
          "base_uri": "https://localhost:8080/"
        },
        "outputId": "97ec5c98-6a81-4a3b-a978-332d9b97fbc2"
      },
      "outputs": [
        {
          "output_type": "stream",
          "name": "stdout",
          "text": [
            "Drive already mounted at /content/drive; to attempt to forcibly remount, call drive.mount(\"/content/drive\", force_remount=True).\n"
          ]
        }
      ],
      "source": [
        "from google.colab import drive\n",
        "drive.mount('/content/drive')"
      ]
    },
    {
      "cell_type": "code",
      "source": [
        "# Import thu vien\n",
        "import pandas as pd\n",
        "import numpy as np\n",
        "import nltk\n",
        "from nltk.corpus import stopwords\n",
        "import matplotlib.pyplot as plt\n",
        "import string\n",
        "import os\n",
        "from sklearn.metrics import f1_score, accuracy_score\n",
        "from math import log\n",
        "#Download the stopwords package\n",
        "nltk.download('stopwords')"
      ],
      "metadata": {
        "id": "yPpJ_k6jxG56",
        "colab": {
          "base_uri": "https://localhost:8080/"
        },
        "outputId": "42ecb8d4-4276-4eaf-e0d1-6db12ad635aa"
      },
      "execution_count": null,
      "outputs": [
        {
          "output_type": "stream",
          "name": "stderr",
          "text": [
            "[nltk_data] Downloading package stopwords to /root/nltk_data...\n",
            "[nltk_data]   Unzipping corpora/stopwords.zip.\n"
          ]
        },
        {
          "output_type": "execute_result",
          "data": {
            "text/plain": [
              "True"
            ]
          },
          "metadata": {},
          "execution_count": 2
        }
      ]
    },
    {
      "cell_type": "code",
      "source": [
        "# Tao ham cleanEmail de tach cac ki tu ngan cach, cac tu khong lien quan, gay nhieu du lieu\n",
        "def cleanEmail(email):\n",
        "  mylist =[]\n",
        "\n",
        "  for char in email:\n",
        "    if char not in string.punctuation:\n",
        "      mylist.append(char)\n",
        "  mylist = ''.join(mylist)\n",
        "\n",
        "  cleanText = \"\"\n",
        "  for word in mylist.split():\n",
        "    if word.lower() not in stopwords.words('english') :\n",
        "        cleanText = cleanText + \" \" + word\n",
        "  return cleanText\n",
        "\n",
        "# Ham tao dataframe cua tap Train va tap Test\n",
        "def ListEmail(dir, file_list):\n",
        "  myString = []\n",
        "  for file in file_list:\n",
        "    with open(dir + '/' + file) as f:\n",
        "      email = cleanEmail(f.read())\n",
        "    myString.append(email)\n",
        "  return myString\n",
        "\n",
        "# Ham tao DataFrame tap Train va test\n",
        "def makeDataFrame(dirNotSpam, dirSpam):\n",
        "  FileListNotSpam = os.listdir(dirNotSpam)\n",
        "  FileListSpam = os.listdir(dirSpam)\n",
        "  Emails1 = ListEmail(dirNotSpam, FileListNotSpam)\n",
        "  dfns = pd.DataFrame({\n",
        "      'Email': Emails1,\n",
        "      'Label':  np.zeros(len(Emails1), dtype=int)\n",
        "  }) # 0 la khong spam\n",
        "  Emails2 = ListEmail(dirSpam, FileListSpam)\n",
        "  dfs = pd.DataFrame({\n",
        "      'Email': Emails2,\n",
        "      'Label':  np.ones(len(Emails2), dtype=int)\n",
        "  }) # 1 la spam\n",
        "  df = pd.concat([dfns, dfs], ignore_index=True)\n",
        "  return df"
      ],
      "metadata": {
        "id": "_VF7lX5MxSXF"
      },
      "execution_count": null,
      "outputs": []
    },
    {
      "cell_type": "code",
      "source": [
        "dirTrainNotSpam = '/content/drive/MyDrive/Colab Notebooks/SamSungTest2/TrainData/notspam'\n",
        "dirTrainSpam = '/content/drive/MyDrive/Colab Notebooks/SamSungTest2/TrainData/spam'\n",
        "dirTestNotSpam = '/content/drive/MyDrive/Colab Notebooks/SamSungTest2/TestData_withlabel/notspamTest'\n",
        "dirTestSpam = '/content/drive/MyDrive/Colab Notebooks/SamSungTest2/TestData_withlabel/spamTest'"
      ],
      "metadata": {
        "id": "8ao2I7pnsdwa"
      },
      "execution_count": null,
      "outputs": []
    },
    {
      "cell_type": "code",
      "source": [
        "dfTrain = makeDataFrame(dirTrainNotSpam, dirTrainSpam)\n",
        "dfTrain"
      ],
      "metadata": {
        "colab": {
          "base_uri": "https://localhost:8080/",
          "height": 423
        },
        "id": "LaHHONURsjpZ",
        "outputId": "b8b40001-fbbe-45fc-e1bd-fb1d58833b6c"
      },
      "execution_count": null,
      "outputs": [
        {
          "output_type": "execute_result",
          "data": {
            "text/plain": [
              "                                                 Email  Label\n",
              "0     Subject postings hi working phonetics project...      0\n",
              "1     Subject precoling 92 symposium computational ...      0\n",
              "2     Subject 3 378 korean l2 psycholinguistics ger...      0\n",
              "3     Subject tone grammar summary finally lansing ...      0\n",
              "4     Subject query icelandic anyone tell anything ...      0\n",
              "..                                                 ...    ...\n",
              "362   Subject tinydrive usb 2 0 mobile 2 2 gb stora...      1\n",
              "363   Subject payment confirmation p 9990835 begin ...      1\n",
              "364   Subject viicodin via gra che ap jkoutsi lowes...      1\n",
              "365       Subject 80 smart ink system www compusoft gr      1\n",
              "366   Subject long time customer id 615 order 13 wo...      1\n",
              "\n",
              "[367 rows x 2 columns]"
            ],
            "text/html": [
              "\n",
              "  <div id=\"df-dab59fd0-60b4-48e6-99d5-6a51f2c56974\">\n",
              "    <div class=\"colab-df-container\">\n",
              "      <div>\n",
              "<style scoped>\n",
              "    .dataframe tbody tr th:only-of-type {\n",
              "        vertical-align: middle;\n",
              "    }\n",
              "\n",
              "    .dataframe tbody tr th {\n",
              "        vertical-align: top;\n",
              "    }\n",
              "\n",
              "    .dataframe thead th {\n",
              "        text-align: right;\n",
              "    }\n",
              "</style>\n",
              "<table border=\"1\" class=\"dataframe\">\n",
              "  <thead>\n",
              "    <tr style=\"text-align: right;\">\n",
              "      <th></th>\n",
              "      <th>Email</th>\n",
              "      <th>Label</th>\n",
              "    </tr>\n",
              "  </thead>\n",
              "  <tbody>\n",
              "    <tr>\n",
              "      <th>0</th>\n",
              "      <td>Subject postings hi working phonetics project...</td>\n",
              "      <td>0</td>\n",
              "    </tr>\n",
              "    <tr>\n",
              "      <th>1</th>\n",
              "      <td>Subject precoling 92 symposium computational ...</td>\n",
              "      <td>0</td>\n",
              "    </tr>\n",
              "    <tr>\n",
              "      <th>2</th>\n",
              "      <td>Subject 3 378 korean l2 psycholinguistics ger...</td>\n",
              "      <td>0</td>\n",
              "    </tr>\n",
              "    <tr>\n",
              "      <th>3</th>\n",
              "      <td>Subject tone grammar summary finally lansing ...</td>\n",
              "      <td>0</td>\n",
              "    </tr>\n",
              "    <tr>\n",
              "      <th>4</th>\n",
              "      <td>Subject query icelandic anyone tell anything ...</td>\n",
              "      <td>0</td>\n",
              "    </tr>\n",
              "    <tr>\n",
              "      <th>...</th>\n",
              "      <td>...</td>\n",
              "      <td>...</td>\n",
              "    </tr>\n",
              "    <tr>\n",
              "      <th>362</th>\n",
              "      <td>Subject tinydrive usb 2 0 mobile 2 2 gb stora...</td>\n",
              "      <td>1</td>\n",
              "    </tr>\n",
              "    <tr>\n",
              "      <th>363</th>\n",
              "      <td>Subject payment confirmation p 9990835 begin ...</td>\n",
              "      <td>1</td>\n",
              "    </tr>\n",
              "    <tr>\n",
              "      <th>364</th>\n",
              "      <td>Subject viicodin via gra che ap jkoutsi lowes...</td>\n",
              "      <td>1</td>\n",
              "    </tr>\n",
              "    <tr>\n",
              "      <th>365</th>\n",
              "      <td>Subject 80 smart ink system www compusoft gr</td>\n",
              "      <td>1</td>\n",
              "    </tr>\n",
              "    <tr>\n",
              "      <th>366</th>\n",
              "      <td>Subject long time customer id 615 order 13 wo...</td>\n",
              "      <td>1</td>\n",
              "    </tr>\n",
              "  </tbody>\n",
              "</table>\n",
              "<p>367 rows × 2 columns</p>\n",
              "</div>\n",
              "      <button class=\"colab-df-convert\" onclick=\"convertToInteractive('df-dab59fd0-60b4-48e6-99d5-6a51f2c56974')\"\n",
              "              title=\"Convert this dataframe to an interactive table.\"\n",
              "              style=\"display:none;\">\n",
              "        \n",
              "  <svg xmlns=\"http://www.w3.org/2000/svg\" height=\"24px\"viewBox=\"0 0 24 24\"\n",
              "       width=\"24px\">\n",
              "    <path d=\"M0 0h24v24H0V0z\" fill=\"none\"/>\n",
              "    <path d=\"M18.56 5.44l.94 2.06.94-2.06 2.06-.94-2.06-.94-.94-2.06-.94 2.06-2.06.94zm-11 1L8.5 8.5l.94-2.06 2.06-.94-2.06-.94L8.5 2.5l-.94 2.06-2.06.94zm10 10l.94 2.06.94-2.06 2.06-.94-2.06-.94-.94-2.06-.94 2.06-2.06.94z\"/><path d=\"M17.41 7.96l-1.37-1.37c-.4-.4-.92-.59-1.43-.59-.52 0-1.04.2-1.43.59L10.3 9.45l-7.72 7.72c-.78.78-.78 2.05 0 2.83L4 21.41c.39.39.9.59 1.41.59.51 0 1.02-.2 1.41-.59l7.78-7.78 2.81-2.81c.8-.78.8-2.07 0-2.86zM5.41 20L4 18.59l7.72-7.72 1.47 1.35L5.41 20z\"/>\n",
              "  </svg>\n",
              "      </button>\n",
              "      \n",
              "  <style>\n",
              "    .colab-df-container {\n",
              "      display:flex;\n",
              "      flex-wrap:wrap;\n",
              "      gap: 12px;\n",
              "    }\n",
              "\n",
              "    .colab-df-convert {\n",
              "      background-color: #E8F0FE;\n",
              "      border: none;\n",
              "      border-radius: 50%;\n",
              "      cursor: pointer;\n",
              "      display: none;\n",
              "      fill: #1967D2;\n",
              "      height: 32px;\n",
              "      padding: 0 0 0 0;\n",
              "      width: 32px;\n",
              "    }\n",
              "\n",
              "    .colab-df-convert:hover {\n",
              "      background-color: #E2EBFA;\n",
              "      box-shadow: 0px 1px 2px rgba(60, 64, 67, 0.3), 0px 1px 3px 1px rgba(60, 64, 67, 0.15);\n",
              "      fill: #174EA6;\n",
              "    }\n",
              "\n",
              "    [theme=dark] .colab-df-convert {\n",
              "      background-color: #3B4455;\n",
              "      fill: #D2E3FC;\n",
              "    }\n",
              "\n",
              "    [theme=dark] .colab-df-convert:hover {\n",
              "      background-color: #434B5C;\n",
              "      box-shadow: 0px 1px 3px 1px rgba(0, 0, 0, 0.15);\n",
              "      filter: drop-shadow(0px 1px 2px rgba(0, 0, 0, 0.3));\n",
              "      fill: #FFFFFF;\n",
              "    }\n",
              "  </style>\n",
              "\n",
              "      <script>\n",
              "        const buttonEl =\n",
              "          document.querySelector('#df-dab59fd0-60b4-48e6-99d5-6a51f2c56974 button.colab-df-convert');\n",
              "        buttonEl.style.display =\n",
              "          google.colab.kernel.accessAllowed ? 'block' : 'none';\n",
              "\n",
              "        async function convertToInteractive(key) {\n",
              "          const element = document.querySelector('#df-dab59fd0-60b4-48e6-99d5-6a51f2c56974');\n",
              "          const dataTable =\n",
              "            await google.colab.kernel.invokeFunction('convertToInteractive',\n",
              "                                                     [key], {});\n",
              "          if (!dataTable) return;\n",
              "\n",
              "          const docLinkHtml = 'Like what you see? Visit the ' +\n",
              "            '<a target=\"_blank\" href=https://colab.research.google.com/notebooks/data_table.ipynb>data table notebook</a>'\n",
              "            + ' to learn more about interactive tables.';\n",
              "          element.innerHTML = '';\n",
              "          dataTable['output_type'] = 'display_data';\n",
              "          await google.colab.output.renderOutput(dataTable, element);\n",
              "          const docLink = document.createElement('div');\n",
              "          docLink.innerHTML = docLinkHtml;\n",
              "          element.appendChild(docLink);\n",
              "        }\n",
              "      </script>\n",
              "    </div>\n",
              "  </div>\n",
              "  "
            ]
          },
          "metadata": {},
          "execution_count": 5
        }
      ]
    },
    {
      "cell_type": "code",
      "source": [
        "print(len(dfTrain['Label']))\n",
        "print(dfTrain['Label'].sum())"
      ],
      "metadata": {
        "colab": {
          "base_uri": "https://localhost:8080/"
        },
        "id": "Veo7eJBMPkOd",
        "outputId": "e6e31df9-5820-4e9f-d9df-8d5fe3b217f3"
      },
      "execution_count": null,
      "outputs": [
        {
          "output_type": "stream",
          "name": "stdout",
          "text": [
            "367\n",
            "174\n"
          ]
        }
      ]
    },
    {
      "cell_type": "code",
      "source": [
        "dfTest = makeDataFrame(dirTestNotSpam, dirTestSpam)\n",
        "dfTest"
      ],
      "metadata": {
        "colab": {
          "base_uri": "https://localhost:8080/",
          "height": 423
        },
        "id": "0IBhoZeEugWi",
        "outputId": "e2a65ed4-3d81-4013-cb0b-ba507758abdf"
      },
      "execution_count": null,
      "outputs": [
        {
          "output_type": "execute_result",
          "data": {
            "text/plain": [
              "                                                Email  Label\n",
              "0    Subject query tagalog philippine informants n...      0\n",
              "1    Subject humor communication call papers call ...      0\n",
              "2    Subject 3 396 chomsky citations agree mark du...      0\n",
              "3    Subject speaks languages vicki fromkin iyo1va...      0\n",
              "4    Subject chomsky citations although faithful r...      0\n",
              "..                                                ...    ...\n",
              "88   Subject oxyyyyconttin script needeeed taaabbs...      1\n",
              "89   Subject feel old go click help father pain go...      1\n",
              "90   Subject penny stocks timing nomad internation...      1\n",
              "91   Subject economize 55 recipes assists economis...      1\n",
              "92   Subject hot jobs global marketing specialties...      1\n",
              "\n",
              "[93 rows x 2 columns]"
            ],
            "text/html": [
              "\n",
              "  <div id=\"df-34342a57-232c-4a5d-b4af-5f255adca427\">\n",
              "    <div class=\"colab-df-container\">\n",
              "      <div>\n",
              "<style scoped>\n",
              "    .dataframe tbody tr th:only-of-type {\n",
              "        vertical-align: middle;\n",
              "    }\n",
              "\n",
              "    .dataframe tbody tr th {\n",
              "        vertical-align: top;\n",
              "    }\n",
              "\n",
              "    .dataframe thead th {\n",
              "        text-align: right;\n",
              "    }\n",
              "</style>\n",
              "<table border=\"1\" class=\"dataframe\">\n",
              "  <thead>\n",
              "    <tr style=\"text-align: right;\">\n",
              "      <th></th>\n",
              "      <th>Email</th>\n",
              "      <th>Label</th>\n",
              "    </tr>\n",
              "  </thead>\n",
              "  <tbody>\n",
              "    <tr>\n",
              "      <th>0</th>\n",
              "      <td>Subject query tagalog philippine informants n...</td>\n",
              "      <td>0</td>\n",
              "    </tr>\n",
              "    <tr>\n",
              "      <th>1</th>\n",
              "      <td>Subject humor communication call papers call ...</td>\n",
              "      <td>0</td>\n",
              "    </tr>\n",
              "    <tr>\n",
              "      <th>2</th>\n",
              "      <td>Subject 3 396 chomsky citations agree mark du...</td>\n",
              "      <td>0</td>\n",
              "    </tr>\n",
              "    <tr>\n",
              "      <th>3</th>\n",
              "      <td>Subject speaks languages vicki fromkin iyo1va...</td>\n",
              "      <td>0</td>\n",
              "    </tr>\n",
              "    <tr>\n",
              "      <th>4</th>\n",
              "      <td>Subject chomsky citations although faithful r...</td>\n",
              "      <td>0</td>\n",
              "    </tr>\n",
              "    <tr>\n",
              "      <th>...</th>\n",
              "      <td>...</td>\n",
              "      <td>...</td>\n",
              "    </tr>\n",
              "    <tr>\n",
              "      <th>88</th>\n",
              "      <td>Subject oxyyyyconttin script needeeed taaabbs...</td>\n",
              "      <td>1</td>\n",
              "    </tr>\n",
              "    <tr>\n",
              "      <th>89</th>\n",
              "      <td>Subject feel old go click help father pain go...</td>\n",
              "      <td>1</td>\n",
              "    </tr>\n",
              "    <tr>\n",
              "      <th>90</th>\n",
              "      <td>Subject penny stocks timing nomad internation...</td>\n",
              "      <td>1</td>\n",
              "    </tr>\n",
              "    <tr>\n",
              "      <th>91</th>\n",
              "      <td>Subject economize 55 recipes assists economis...</td>\n",
              "      <td>1</td>\n",
              "    </tr>\n",
              "    <tr>\n",
              "      <th>92</th>\n",
              "      <td>Subject hot jobs global marketing specialties...</td>\n",
              "      <td>1</td>\n",
              "    </tr>\n",
              "  </tbody>\n",
              "</table>\n",
              "<p>93 rows × 2 columns</p>\n",
              "</div>\n",
              "      <button class=\"colab-df-convert\" onclick=\"convertToInteractive('df-34342a57-232c-4a5d-b4af-5f255adca427')\"\n",
              "              title=\"Convert this dataframe to an interactive table.\"\n",
              "              style=\"display:none;\">\n",
              "        \n",
              "  <svg xmlns=\"http://www.w3.org/2000/svg\" height=\"24px\"viewBox=\"0 0 24 24\"\n",
              "       width=\"24px\">\n",
              "    <path d=\"M0 0h24v24H0V0z\" fill=\"none\"/>\n",
              "    <path d=\"M18.56 5.44l.94 2.06.94-2.06 2.06-.94-2.06-.94-.94-2.06-.94 2.06-2.06.94zm-11 1L8.5 8.5l.94-2.06 2.06-.94-2.06-.94L8.5 2.5l-.94 2.06-2.06.94zm10 10l.94 2.06.94-2.06 2.06-.94-2.06-.94-.94-2.06-.94 2.06-2.06.94z\"/><path d=\"M17.41 7.96l-1.37-1.37c-.4-.4-.92-.59-1.43-.59-.52 0-1.04.2-1.43.59L10.3 9.45l-7.72 7.72c-.78.78-.78 2.05 0 2.83L4 21.41c.39.39.9.59 1.41.59.51 0 1.02-.2 1.41-.59l7.78-7.78 2.81-2.81c.8-.78.8-2.07 0-2.86zM5.41 20L4 18.59l7.72-7.72 1.47 1.35L5.41 20z\"/>\n",
              "  </svg>\n",
              "      </button>\n",
              "      \n",
              "  <style>\n",
              "    .colab-df-container {\n",
              "      display:flex;\n",
              "      flex-wrap:wrap;\n",
              "      gap: 12px;\n",
              "    }\n",
              "\n",
              "    .colab-df-convert {\n",
              "      background-color: #E8F0FE;\n",
              "      border: none;\n",
              "      border-radius: 50%;\n",
              "      cursor: pointer;\n",
              "      display: none;\n",
              "      fill: #1967D2;\n",
              "      height: 32px;\n",
              "      padding: 0 0 0 0;\n",
              "      width: 32px;\n",
              "    }\n",
              "\n",
              "    .colab-df-convert:hover {\n",
              "      background-color: #E2EBFA;\n",
              "      box-shadow: 0px 1px 2px rgba(60, 64, 67, 0.3), 0px 1px 3px 1px rgba(60, 64, 67, 0.15);\n",
              "      fill: #174EA6;\n",
              "    }\n",
              "\n",
              "    [theme=dark] .colab-df-convert {\n",
              "      background-color: #3B4455;\n",
              "      fill: #D2E3FC;\n",
              "    }\n",
              "\n",
              "    [theme=dark] .colab-df-convert:hover {\n",
              "      background-color: #434B5C;\n",
              "      box-shadow: 0px 1px 3px 1px rgba(0, 0, 0, 0.15);\n",
              "      filter: drop-shadow(0px 1px 2px rgba(0, 0, 0, 0.3));\n",
              "      fill: #FFFFFF;\n",
              "    }\n",
              "  </style>\n",
              "\n",
              "      <script>\n",
              "        const buttonEl =\n",
              "          document.querySelector('#df-34342a57-232c-4a5d-b4af-5f255adca427 button.colab-df-convert');\n",
              "        buttonEl.style.display =\n",
              "          google.colab.kernel.accessAllowed ? 'block' : 'none';\n",
              "\n",
              "        async function convertToInteractive(key) {\n",
              "          const element = document.querySelector('#df-34342a57-232c-4a5d-b4af-5f255adca427');\n",
              "          const dataTable =\n",
              "            await google.colab.kernel.invokeFunction('convertToInteractive',\n",
              "                                                     [key], {});\n",
              "          if (!dataTable) return;\n",
              "\n",
              "          const docLinkHtml = 'Like what you see? Visit the ' +\n",
              "            '<a target=\"_blank\" href=https://colab.research.google.com/notebooks/data_table.ipynb>data table notebook</a>'\n",
              "            + ' to learn more about interactive tables.';\n",
              "          element.innerHTML = '';\n",
              "          dataTable['output_type'] = 'display_data';\n",
              "          await google.colab.output.renderOutput(dataTable, element);\n",
              "          const docLink = document.createElement('div');\n",
              "          docLink.innerHTML = docLinkHtml;\n",
              "          element.appendChild(docLink);\n",
              "        }\n",
              "      </script>\n",
              "    </div>\n",
              "  </div>\n",
              "  "
            ]
          },
          "metadata": {},
          "execution_count": 6
        }
      ]
    },
    {
      "cell_type": "code",
      "source": [
        "print(dfTest['Label'].sum())"
      ],
      "metadata": {
        "colab": {
          "base_uri": "https://localhost:8080/"
        },
        "id": "tVRwVr3WNYmA",
        "outputId": "b3a6049f-ae5e-440c-de90-23f8c5c05286"
      },
      "execution_count": null,
      "outputs": [
        {
          "output_type": "stream",
          "name": "stdout",
          "text": [
            "45\n"
          ]
        }
      ]
    },
    {
      "cell_type": "code",
      "source": [
        "# Tạo Dictionary (tu dien)\n",
        "\n",
        "mySet = set()\n",
        "for emailIndex in dfTrain['Email']:\n",
        "  listwords = emailIndex.split()\n",
        "  for wordIndex in listwords:\n",
        "    mySet.add(wordIndex)\n",
        "\n",
        "Dictionary = list(mySet)"
      ],
      "metadata": {
        "id": "jQinv7Kn1hRL"
      },
      "execution_count": null,
      "outputs": []
    },
    {
      "cell_type": "code",
      "source": [
        "# Tạo weight_table\n",
        "\n",
        "rows = len(dfTrain)\n",
        "columns = len(Dictionary)\n",
        "weight_table = np.zeros((rows, columns), dtype=int)\n",
        "setx = set()\n",
        "\n",
        "for i in range(len(dfTrain['Email'])):\n",
        "  emailIndex = dfTrain['Email'][i]\n",
        "  listwords = emailIndex.split()\n",
        "  for wordIndex in listwords:\n",
        "    if wordIndex in Dictionary:\n",
        "      j = Dictionary.index(wordIndex)\n",
        "      weight_table[i, j] = 1"
      ],
      "metadata": {
        "id": "n2m1imbw_nz1"
      },
      "execution_count": null,
      "outputs": []
    },
    {
      "cell_type": "code",
      "source": [
        "# Tính các giá trị cần thiết\n",
        "\n",
        "y_train = dfTrain['Label']\n",
        "y_test = dfTest['Label']\n",
        "cntLabel = len(y_train)\n",
        "cntLabelSpam = y_train.sum()\n",
        "cntLabelNoSpam = cntLabel - cntLabelSpam\n",
        "\n",
        "P_LabelSpam = cntLabelSpam / cntLabel\n",
        "P_LabelNoSpam = cntLabelNoSpam / cntLabel\n",
        "\n",
        "y_pred = pd.Series([0]*len(dfTest), name='y_pred')"
      ],
      "metadata": {
        "id": "iRxCQ-tE8BiP"
      },
      "execution_count": null,
      "outputs": []
    },
    {
      "cell_type": "code",
      "source": [
        "print(\"Số lượng nhãn: \" + str(cntLabel))\n",
        "print(\"Số lượng nhãn Spam: \" + str(cntLabelSpam))\n",
        "print(\"Sổ lượng nhãn NotSpam: \" + str(cntLabelNoSpam))\n",
        "print(\"Xác suất Nhãn Spam: \" + str(P_LabelSpam))\n",
        "print(\"Xác suất Nhãn NotSpam : \" + str(P_LabelNoSpam))"
      ],
      "metadata": {
        "colab": {
          "base_uri": "https://localhost:8080/"
        },
        "id": "as6XVOI7vUjX",
        "outputId": "ad49930e-803c-4d75-e425-e701c715e597"
      },
      "execution_count": null,
      "outputs": [
        {
          "output_type": "stream",
          "name": "stdout",
          "text": [
            "Số lượng nhãn: 367\n",
            "Số lượng nhãn Spam: 174\n",
            "Sổ lượng nhãn NotSpam: 193\n",
            "Xác suất Nhãn Spam: 0.47411444141689374\n",
            "Xác suất Nhãn NotSpam : 0.5258855585831063\n"
          ]
        }
      ]
    },
    {
      "cell_type": "code",
      "source": [
        "# Tạo test_table\n",
        "test_rows = len(dfTest)\n",
        "test_columns = len(Dictionary)\n",
        "test_table = np.zeros((test_rows, test_columns), dtype=int)\n",
        "\n",
        "for i in range(len(dfTest['Email'])):\n",
        "  emailIndex = dfTest['Email'][i]\n",
        "  listwords = emailIndex.split()\n",
        "  for wordIndex in listwords:\n",
        "    if wordIndex in Dictionary:\n",
        "      j = Dictionary.index(wordIndex)\n",
        "      test_table[i, j] = 1\n"
      ],
      "metadata": {
        "id": "ieGYKtDixZCU"
      },
      "execution_count": null,
      "outputs": []
    },
    {
      "cell_type": "code",
      "source": [
        "# Dự đoán\n",
        "# Tạo bảng Att\n",
        "\n",
        "att_table = np.zeros((4, len(Dictionary)), dtype=np.double)\n",
        "\n",
        "for j in range(columns):\n",
        "  cnt_0_0 = 0\n",
        "  cnt_1_0 = 0\n",
        "  cnt_0_1 = 0\n",
        "  cnt_1_1 = 0\n",
        "  p_0_0 = 0\n",
        "  p_1_0 = 0\n",
        "  p_0_1 = 0\n",
        "  p_1_1 = 0\n",
        "  # cnt_x_1 = weight_table[:,j].sum\n",
        "  # cnt_x_0 = len(weight_table) - cnt_x_1\n",
        "  for i in range(rows):\n",
        "    if weight_table[i, j] == 0 and y_train[i] == 0:\n",
        "      cnt_0_0 += 1\n",
        "    elif weight_table[i, j] == 1 and y_train[i] == 0:\n",
        "      cnt_1_0 += 1\n",
        "    elif weight_table[i, j] == 0 and y_train[i] == 1:\n",
        "      cnt_0_1 += 1\n",
        "    elif weight_table[i, j] == 1 and y_train[i] == 1:\n",
        "      cnt_1_1 += 1\n",
        "  # print(str(cnt_0_0) + \" \" + str(cnt_1_0) + \" \" + str(cnt_0_1) + \" \" + str(cnt_1_1))\n",
        "  p_0_0 = np.double(cnt_0_0 + 1) / (cntLabelNoSpam + 1)\n",
        "  p_1_0 = np.double(cnt_1_0 + 1) / (cntLabelNoSpam + 1)\n",
        "  p_0_1 = np.double(cnt_0_1 + 1) / (cntLabelSpam + 1)\n",
        "  p_1_1 = np.double(cnt_1_1 + 1) / (cntLabelSpam + 1)\n",
        "  # print(str(p_0_0) + \" \" + str(p_1_0) + \" \" + str(p_0_1) + \" \" + str(p_1_1))\n",
        "  # print(str(log(p_0_0)) + \" \" + str(log(p_1_0)) + \" \" + str(log(p_0_1)) + \" \" + str(log(p_1_1)))\n",
        "  att_table[0][j] = log(p_0_0)\n",
        "  att_table[1][j] = log(p_1_0)\n",
        "  att_table[2][j] = log(p_0_1)\n",
        "  att_table[3][j] = log(p_1_1)\n",
        "  # print(str(j) + \" \" + str(cnt_0_1) + \" \" + str(p_0_1) + \" \" + str(log(p_0_1)) + \" \" + str(att_table[2][j]))"
      ],
      "metadata": {
        "id": "PHoGwG9BzAkU"
      },
      "execution_count": null,
      "outputs": []
    },
    {
      "cell_type": "code",
      "source": [
        "print(att_table[0][0])\n",
        "print(att_table[1][0])\n",
        "print(att_table[2][0])\n",
        "print(att_table[3][0])\n"
      ],
      "metadata": {
        "colab": {
          "base_uri": "https://localhost:8080/"
        },
        "id": "ju9cFuAMFwg3",
        "outputId": "1e1a2fcf-2410-4d9d-b042-8a089d9eeaff"
      },
      "execution_count": null,
      "outputs": [
        {
          "output_type": "stream",
          "name": "stdout",
          "text": [
            "-0.005167970158442561\n",
            "-4.574710978503383\n",
            "0.0\n",
            "-5.1647859739235145\n"
          ]
        }
      ]
    },
    {
      "cell_type": "code",
      "source": [
        "for i in range(test_rows):\n",
        "  cNB_spam = log(P_LabelSpam)\n",
        "  cNB_no_spam = log(P_LabelNoSpam)\n",
        "  for j in range(test_columns):\n",
        "    if test_table[i][j] == 0:\n",
        "      cNB_spam += att_table[2][j]\n",
        "      cNB_no_spam += att_table[0][j]\n",
        "    else:\n",
        "      cNB_spam += att_table[3][j]\n",
        "      cNB_no_spam += att_table[1][j]\n",
        "  # y_pred[i] = int(1) if cNB_spam >= cNB_no_spam else 0\n",
        "  if cNB_spam >= cNB_no_spam:\n",
        "    y_pred[i] = 1"
      ],
      "metadata": {
        "id": "4ttvSZalmc_6"
      },
      "execution_count": null,
      "outputs": []
    },
    {
      "cell_type": "code",
      "source": [],
      "metadata": {
        "id": "mI04hi2F-TjC"
      },
      "execution_count": null,
      "outputs": []
    },
    {
      "cell_type": "code",
      "source": [
        "print(accuracy_score(y_test, y_pred))"
      ],
      "metadata": {
        "colab": {
          "base_uri": "https://localhost:8080/"
        },
        "id": "VojMXKClnqNj",
        "outputId": "9bbd22cf-4697-40d4-8207-2e1fefb171fd"
      },
      "execution_count": null,
      "outputs": [
        {
          "output_type": "stream",
          "name": "stdout",
          "text": [
            "0.9032258064516129\n"
          ]
        }
      ]
    }
  ]
}